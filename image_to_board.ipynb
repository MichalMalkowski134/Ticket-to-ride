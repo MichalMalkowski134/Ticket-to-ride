{
 "cells": [
  {
   "cell_type": "code",
   "execution_count": 1,
   "id": "2104f49f",
   "metadata": {},
   "outputs": [],
   "source": [
    "import numpy as np\n",
    "import cv2"
   ]
  },
  {
   "cell_type": "code",
   "execution_count": 2,
   "id": "171dcb8b",
   "metadata": {},
   "outputs": [],
   "source": [
    "#corners = [[99, 67], [1933, 111], [1, 1359], [2048, 1351]]\n",
    "corners = [[1163, 529], [3573, 891], [193, 1755], [3549, 2705]]\n",
    "\n",
    "def getBoard(img):\n",
    "    width, height = 800, 600\n",
    "    oldPoints = np.float32(corners)\n",
    "    newPoints = np.float32([[0,0], [width,0], [0,height], [width,height]])\n",
    "    m = cv2.getPerspectiveTransform(oldPoints, newPoints)\n",
    "    out = cv2.warpPerspective(img, m, (width, height))\n",
    "    \n",
    "    return out"
   ]
  },
  {
   "cell_type": "code",
   "execution_count": null,
   "id": "497867bd",
   "metadata": {
    "scrolled": true
   },
   "outputs": [],
   "source": [
    "img = cv2.imread('dataset/original/3.jpg')\n",
    "\n",
    "img2 = getBoard(img)\n",
    "cv2.imshow('image',img2)\n",
    "cv2.waitKey(0)\n",
    "cv2.destroyAllWindows()"
   ]
  },
  {
   "cell_type": "code",
   "execution_count": null,
   "id": "c6835041",
   "metadata": {
    "scrolled": true
   },
   "outputs": [],
   "source": [
    "#Tworzenie masek z zaznaczonymi rogami\n",
    "for i in range(60):\n",
    "    name = str(i+1)+'_done'\n",
    "    img = cv2.imread('dataset/mask/'+name+'.jpg')\n",
    "    for j in range(img.shape[0]):\n",
    "        for k in range(img.shape[1]):\n",
    "            if not img[j][k][0] == img[j][k][1] == img[j][k][2] == 255:\n",
    "                img[j][k][0] = img[j][k][1] = img[j][k][2] = 0\n",
    "    cv2.imwrite('dataset/mask/'+name+'_mask.jpg', img)\n",
    "                "
   ]
  },
  {
   "cell_type": "code",
   "execution_count": null,
   "id": "a4a54140",
   "metadata": {},
   "outputs": [],
   "source": []
  }
 ],
 "metadata": {
  "kernelspec": {
   "display_name": "Python 3 (ipykernel)",
   "language": "python",
   "name": "python3"
  },
  "language_info": {
   "codemirror_mode": {
    "name": "ipython",
    "version": 3
   },
   "file_extension": ".py",
   "mimetype": "text/x-python",
   "name": "python",
   "nbconvert_exporter": "python",
   "pygments_lexer": "ipython3",
   "version": "3.9.16"
  }
 },
 "nbformat": 4,
 "nbformat_minor": 5
}
