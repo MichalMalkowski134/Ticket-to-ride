{
 "cells": [
  {
   "cell_type": "code",
   "execution_count": 2,
   "id": "2104f49f",
   "metadata": {},
   "outputs": [],
   "source": [
    "import numpy as np\n",
    "import cv2"
   ]
  },
  {
   "cell_type": "code",
   "execution_count": 2,
   "id": "171dcb8b",
   "metadata": {},
   "outputs": [],
   "source": [
    "#corners = [[99, 67], [1933, 111], [1, 1359], [2048, 1351]]\n",
    "corners = [[1163, 529], [3573, 891], [193, 1755], [3549, 2705]]\n",
    "\n",
    "def getBoard(img):\n",
    "    width, height = 800, 600\n",
    "    oldPoints = np.float32(corners)\n",
    "    newPoints = np.float32([[0,0], [width,0], [0,height], [width,height]])\n",
    "    m = cv2.getPerspectiveTransform(oldPoints, newPoints)\n",
    "    out = cv2.warpPerspective(img, m, (width, height))\n",
    "    \n",
    "    return out"
   ]
  },
  {
   "cell_type": "code",
   "execution_count": null,
   "id": "ea5cbee4",
   "metadata": {},
   "outputs": [],
   "source": [
    "import numpy as np\n",
    "import cv2 as cv\n",
    "from matplotlib import pyplot as plt\n",
    "img = cv2.imread('dataset/original/3.jpg')\n",
    "gray = cv.cvtColor(img,cv.COLOR_BGR2GRAY)\n",
    "ret, thresh = cv.threshold(gray,0,255,cv.THRESH_BINARY_INV+cv.THRESH_OTSU)\n",
    "\n",
    "cv2.imshow('image',thresh)\n",
    "cv2.waitKey(0)\n",
    "cv2.destroyAllWindows()"
   ]
  },
  {
   "cell_type": "code",
   "execution_count": null,
   "id": "68009ff5",
   "metadata": {},
   "outputs": [
    {
     "name": "stdout",
     "output_type": "stream",
     "text": [
      "[3066.0, 2559.0, 386.0, 2108.0]\n",
      "[603.0, 2427.0, 1400.0, 1452.0]\n"
     ]
    }
   ],
   "source": [
    "import cv2\n",
    "\n",
    "image = cv2.imread('dataset/original/1.jpg')\n",
    "gray = cv2.cvtColor(image, cv2.COLOR_BGR2GRAY)\n",
    "canny = cv2.Canny(gray, 120, 255, 1)\n",
    "\n",
    "corners = cv2.goodFeaturesToTrack(canny,4,0.5,50)\n",
    "listx = []\n",
    "listy = []\n",
    "for corner in corners:\n",
    "    x,y = corner.ravel()\n",
    "    listx.append(x)\n",
    "    listy.append(y)\n",
    "    cv2.circle(image,(int(x),int(y)),10,(36,255,12),10)\n",
    "\n",
    "print(listx)\n",
    "print(listy)\n",
    "#cv2.imshow('canny', canny)\n",
    "cv2.imshow('image', image)\n",
    "cv2.waitKey()"
   ]
  },
  {
   "cell_type": "code",
   "execution_count": null,
   "id": "c6835041",
   "metadata": {
    "scrolled": true
   },
   "outputs": [],
   "source": [
    "#Tworzenie masek z zaznaczonymi rogami\n",
    "for i in range(60):\n",
    "    name = str(i+1)+'_done'\n",
    "    img = cv2.imread('dataset/points/'+name+'.jpg')\n",
    "    for j in range(img.shape[0]):\n",
    "        for k in range(img.shape[1]):\n",
    "            if not img[j][k][0] == img[j][k][1] == img[j][k][2] == 255:\n",
    "                img[j][k][0] = img[j][k][1] = img[j][k][2] = 0\n",
    "    cv2.imwrite('dataset/mask/'+name+'_mask.jpg', img)\n",
    "                "
   ]
  },
  {
   "cell_type": "code",
   "execution_count": null,
   "id": "aaee6dc2",
   "metadata": {},
   "outputs": [],
   "source": [
    "import math\n",
    "import numpy as np\n",
    "import cv2\n",
    "from shapely.geometry import Point\n",
    "from shapely.geometry.polygon import Polygon\n",
    "\n",
    "for i in range(13,60):\n",
    "    name = str(i+1)+'_done_mask'\n",
    "    img = cv2.imread('dataset/mask/'+name+'.jpg')\n",
    "    corners = []\n",
    "    for j in range(img.shape[0]):\n",
    "        for k in range(img.shape[1]):\n",
    "            if img[j][k][0] == img[j][k][1] == img[j][k][2] == 255:\n",
    "                if len(corners) == 0:\n",
    "                    corners.append([j,k])\n",
    "                else:\n",
    "                    for ind in range(len(corners)):\n",
    "                        if math.dist([j,k], corners[ind]) < 50:\n",
    "                            break\n",
    "                        if ind == len(corners)-1:\n",
    "                            corners.append([j,k])\n",
    "    temp = corners[3]\n",
    "    corners[3] = corners[2]\n",
    "    corners[2] = temp\n",
    "    polygon = Polygon(corners)\n",
    "    newImg =  np.zeros((img.shape[0], img.shape[1]))\n",
    "    for j in range(newImg.shape[0]):\n",
    "        for k in range(newImg.shape[1]):\n",
    "            if polygon.contains(Point(j,k)):\n",
    "                newImg[j][k] = 255\n",
    "                \n",
    "    cv2.imwrite('dataset/new_mask/'+name+'_mask.jpg', newImg)\n",
    "\n"
   ]
  },
  {
   "cell_type": "code",
   "execution_count": 1,
   "id": "507c12ce",
   "metadata": {},
   "outputs": [
    {
     "name": "stdout",
     "output_type": "stream",
     "text": [
      "(1, 512, 512, 1)\n"
     ]
    },
    {
     "data": {
      "text/plain": [
       "16"
      ]
     },
     "execution_count": 1,
     "metadata": {},
     "output_type": "execute_result"
    }
   ],
   "source": [
    "import numpy as np\n",
    "import cv2\n",
    "from keras.models import Model, load_model\n",
    "import tensorflow as tf\n",
    "\n",
    "img = cv2.imread('dataset/original/46.jpg')\n",
    "img = cv2.resize(img, (512,512))\n",
    "\n",
    "\n",
    "model = load_model('C:/Users/mmalk/Ticket-to-ride/dataset/model2.h5')\n",
    "newframe = np.expand_dims(img, axis=0)\n",
    "imgNew = model.predict(newframe, verbose=0)\n",
    "print(imgNew.shape)\n",
    "cv2.imshow('i',imgNew[0])\n",
    "cv2.waitKey(0)\n",
    "#cv2.destroyAllWindows()"
   ]
  },
  {
   "cell_type": "code",
   "execution_count": 11,
   "id": "e015a7a2",
   "metadata": {},
   "outputs": [
    {
     "name": "stdout",
     "output_type": "stream",
     "text": [
      "(None, 512, 512, 3)\n"
     ]
    }
   ],
   "source": [
    "config = model.get_config() # Returns pretty much every information about your model\n",
    "print(config[\"layers\"][0][\"config\"][\"batch_input_shape\"])"
   ]
  },
  {
   "cell_type": "code",
   "execution_count": null,
   "id": "9734b401",
   "metadata": {},
   "outputs": [],
   "source": []
  }
 ],
 "metadata": {
  "kernelspec": {
   "display_name": "Python 3 (ipykernel)",
   "language": "python",
   "name": "python3"
  },
  "language_info": {
   "codemirror_mode": {
    "name": "ipython",
    "version": 3
   },
   "file_extension": ".py",
   "mimetype": "text/x-python",
   "name": "python",
   "nbconvert_exporter": "python",
   "pygments_lexer": "ipython3",
   "version": "3.9.16"
  }
 },
 "nbformat": 4,
 "nbformat_minor": 5
}
