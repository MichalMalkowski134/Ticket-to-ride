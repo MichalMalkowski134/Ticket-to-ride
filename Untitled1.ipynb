{
 "cells": [
  {
   "cell_type": "code",
   "execution_count": 7,
   "id": "2b7b7fcb",
   "metadata": {},
   "outputs": [
    {
     "name": "stderr",
     "output_type": "stream",
     "text": [
      "Ultralytics YOLOv8.0.20  Python-3.9.16 torch-2.1.2+cpu CPU\n",
      "Model summary (fused): 168 layers, 11128293 parameters, 0 gradients, 28.5 GFLOPs\n",
      "Results saved to \u001b[1mruns\\detect\\predict3\u001b[0m\n",
      "1 label saved to runs\\detect\\predict3\\labels\n"
     ]
    },
    {
     "data": {
      "text/plain": [
       "[Ultralytics YOLO <class 'ultralytics.yolo.engine.results.Boxes'> masks\n",
       " type: <class 'torch.Tensor'>\n",
       " shape: torch.Size([18, 6])\n",
       " dtype: torch.float32\n",
       "  + tensor([[6.71000e+02, 2.64800e+03, 8.02000e+02, 2.79700e+03, 9.58005e-01, 1.00000e+00],\n",
       "         [1.36700e+03, 1.94700e+03, 1.48900e+03, 2.07900e+03, 9.51580e-01, 1.00000e+00],\n",
       "         [1.66000e+03, 1.24900e+03, 1.77400e+03, 1.37700e+03, 9.43796e-01, 1.00000e+00],\n",
       "         [1.70400e+03, 6.20000e+02, 1.81900e+03, 7.52000e+02, 9.33338e-01, 1.00000e+00],\n",
       "         [3.20000e+01, 2.14400e+03, 1.66000e+02, 2.28300e+03, 9.14530e-01, 1.00000e+00],\n",
       "         [1.39900e+03, 7.91000e+02, 1.51600e+03, 9.16000e+02, 9.12063e-01, 1.00000e+00],\n",
       "         [5.91000e+02, 1.54200e+03, 7.21000e+02, 1.67200e+03, 8.94901e-01, 3.00000e+00],\n",
       "         [6.80000e+02, 7.27000e+02, 8.06000e+02, 8.58000e+02, 8.75254e-01, 3.00000e+00],\n",
       "         [8.41000e+02, 2.20700e+03, 9.71000e+02, 2.34900e+03, 8.30810e-01, 2.00000e+00],\n",
       "         [3.58500e+03, 5.99000e+02, 3.72200e+03, 7.29000e+02, 8.18395e-01, 3.00000e+00],\n",
       "         [1.33900e+03, 1.06400e+03, 1.45800e+03, 1.19400e+03, 8.04841e-01, 3.00000e+00],\n",
       "         [3.46000e+02, 3.63000e+02, 4.72000e+02, 5.01000e+02, 8.02954e-01, 3.00000e+00],\n",
       "         [2.80800e+03, 1.86400e+03, 2.93600e+03, 1.99100e+03, 8.02228e-01, 2.00000e+00],\n",
       "         [3.19700e+03, 5.98000e+02, 3.32400e+03, 7.33000e+02, 7.98665e-01, 2.00000e+00],\n",
       "         [3.23700e+03, 2.14900e+03, 3.36700e+03, 2.28800e+03, 7.72428e-01, 2.00000e+00],\n",
       "         [2.51500e+03, 2.27200e+03, 2.64100e+03, 2.41000e+03, 7.29227e-01, 2.00000e+00],\n",
       "         [2.60100e+03, 1.21700e+03, 2.72700e+03, 1.34600e+03, 7.11411e-01, 2.00000e+00],\n",
       "         [2.84700e+03, 2.37700e+03, 2.97400e+03, 2.51300e+03, 7.00023e-01, 2.00000e+00]])]"
      ]
     },
     "execution_count": 7,
     "metadata": {},
     "output_type": "execute_result"
    }
   ],
   "source": [
    "import numpy as np\n",
    "from ultralytics import YOLO\n",
    "\n",
    "image_path = 'dataset/age_of_steam/board/IMG_20231020_165605.jpg'\n",
    "model_markups_path = 'Roboflow_model/best_markups.pt'\n",
    "folder_path3 = 'runs/detect/predict3'\n",
    "\n",
    "model = YOLO(model_markups_path)\n",
    "model.predict(image_path, save=True, imgsz=640, conf=0.25,save_txt=True, save_conf=True)"
   ]
  },
  {
   "cell_type": "code",
   "execution_count": null,
   "id": "aec60c8b",
   "metadata": {},
   "outputs": [],
   "source": []
  }
 ],
 "metadata": {
  "kernelspec": {
   "display_name": "Python 3 (ipykernel)",
   "language": "python",
   "name": "python3"
  },
  "language_info": {
   "codemirror_mode": {
    "name": "ipython",
    "version": 3
   },
   "file_extension": ".py",
   "mimetype": "text/x-python",
   "name": "python",
   "nbconvert_exporter": "python",
   "pygments_lexer": "ipython3",
   "version": "3.9.16"
  }
 },
 "nbformat": 4,
 "nbformat_minor": 5
}
