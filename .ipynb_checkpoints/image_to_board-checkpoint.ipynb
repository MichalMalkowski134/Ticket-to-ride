{
 "cells": [
  {
   "cell_type": "code",
   "execution_count": 1,
   "id": "2104f49f",
   "metadata": {},
   "outputs": [],
   "source": [
    "import numpy as np\n",
    "import cv2"
   ]
  },
  {
   "cell_type": "code",
   "execution_count": 2,
   "id": "171dcb8b",
   "metadata": {},
   "outputs": [],
   "source": [
    "#corners = [[99, 67], [1933, 111], [1, 1359], [2048, 1351]]\n",
    "corners = [[313, 222], [1687, 238], [81, 1176], [1977, 1131]]\n",
    "\n",
    "def getBoard(img):\n",
    "    width, height = 800, 600\n",
    "    oldPoints = np.float32(corners)\n",
    "    newPoints = np.float32([[0,0], [width,0], [0,height], [width,height]])\n",
    "    m = cv2.getPerspectiveTransform(oldPoints, newPoints)\n",
    "    out = cv2.warpPerspective(img, m, (width, height))\n",
    "    \n",
    "    return out"
   ]
  },
  {
   "cell_type": "code",
   "execution_count": 3,
   "id": "497867bd",
   "metadata": {},
   "outputs": [
    {
     "ename": "error",
     "evalue": "OpenCV(4.6.0) C:\\b\\abs_d8ltn27ay8\\croot\\opencv-suite_1676452046667\\work\\modules\\imgproc\\src\\imgwarp.cpp:3144: error: (-215:Assertion failed) _src.total() > 0 in function 'cv::warpPerspective'\n",
     "output_type": "error",
     "traceback": [
      "\u001b[1;31m---------------------------------------------------------------------------\u001b[0m",
      "\u001b[1;31merror\u001b[0m                                     Traceback (most recent call last)",
      "Cell \u001b[1;32mIn[3], line 3\u001b[0m\n\u001b[0;32m      1\u001b[0m img \u001b[38;5;241m=\u001b[39m cv2\u001b[38;5;241m.\u001b[39mimread(\u001b[38;5;124m'\u001b[39m\u001b[38;5;124mdataset/original/m3.jpg\u001b[39m\u001b[38;5;124m'\u001b[39m)\n\u001b[1;32m----> 3\u001b[0m img2 \u001b[38;5;241m=\u001b[39m \u001b[43mgetBoard\u001b[49m\u001b[43m(\u001b[49m\u001b[43mimg\u001b[49m\u001b[43m)\u001b[49m\n\u001b[0;32m      4\u001b[0m cv2\u001b[38;5;241m.\u001b[39mimshow(\u001b[38;5;124m'\u001b[39m\u001b[38;5;124mimage\u001b[39m\u001b[38;5;124m'\u001b[39m,img2)\n\u001b[0;32m      5\u001b[0m cv2\u001b[38;5;241m.\u001b[39mwaitKey(\u001b[38;5;241m0\u001b[39m)\n",
      "Cell \u001b[1;32mIn[2], line 9\u001b[0m, in \u001b[0;36mgetBoard\u001b[1;34m(img)\u001b[0m\n\u001b[0;32m      7\u001b[0m newPoints \u001b[38;5;241m=\u001b[39m np\u001b[38;5;241m.\u001b[39mfloat32([[\u001b[38;5;241m0\u001b[39m,\u001b[38;5;241m0\u001b[39m], [width,\u001b[38;5;241m0\u001b[39m], [\u001b[38;5;241m0\u001b[39m,height], [width,height]])\n\u001b[0;32m      8\u001b[0m m \u001b[38;5;241m=\u001b[39m cv2\u001b[38;5;241m.\u001b[39mgetPerspectiveTransform(oldPoints, newPoints)\n\u001b[1;32m----> 9\u001b[0m out \u001b[38;5;241m=\u001b[39m \u001b[43mcv2\u001b[49m\u001b[38;5;241;43m.\u001b[39;49m\u001b[43mwarpPerspective\u001b[49m\u001b[43m(\u001b[49m\u001b[43mimg\u001b[49m\u001b[43m,\u001b[49m\u001b[43m \u001b[49m\u001b[43mm\u001b[49m\u001b[43m,\u001b[49m\u001b[43m \u001b[49m\u001b[43m(\u001b[49m\u001b[43mwidth\u001b[49m\u001b[43m,\u001b[49m\u001b[43m \u001b[49m\u001b[43mheight\u001b[49m\u001b[43m)\u001b[49m\u001b[43m)\u001b[49m\n\u001b[0;32m     11\u001b[0m \u001b[38;5;28;01mreturn\u001b[39;00m out\n",
      "\u001b[1;31merror\u001b[0m: OpenCV(4.6.0) C:\\b\\abs_d8ltn27ay8\\croot\\opencv-suite_1676452046667\\work\\modules\\imgproc\\src\\imgwarp.cpp:3144: error: (-215:Assertion failed) _src.total() > 0 in function 'cv::warpPerspective'\n"
     ]
    }
   ],
   "source": [
    "img = cv2.imread('dataset/original/m3.jpg')\n",
    "\n",
    "img2 = getBoard(img)\n",
    "cv2.imshow('image',img2)\n",
    "cv2.waitKey(0)\n",
    "cv2.destroyAllWindows()"
   ]
  },
  {
   "cell_type": "code",
   "execution_count": null,
   "id": "c6835041",
   "metadata": {
    "scrolled": true
   },
   "outputs": [],
   "source": [
    "#Tworzenie masek z zaznaczonymi rogami\n",
    "for i in range(60):\n",
    "    name = str(i+1)+'_done'\n",
    "    img = cv2.imread('dataset/mask/'+name+'.jpg')\n",
    "    for j in range(img.shape[0]):\n",
    "        for k in range(img.shape[1]):\n",
    "            if not img[j][k][0] == img[j][k][1] == img[j][k][2] == 255:\n",
    "                img[j][k][0] = img[j][k][1] = img[j][k][2] = 0\n",
    "    cv2.imwrite('dataset/mask/'+name+'_mask.jpg', img)\n",
    "                "
   ]
  },
  {
   "cell_type": "code",
   "execution_count": null,
   "id": "a4a54140",
   "metadata": {},
   "outputs": [],
   "source": []
  }
 ],
 "metadata": {
  "kernelspec": {
   "display_name": "Python 3 (ipykernel)",
   "language": "python",
   "name": "python3"
  },
  "language_info": {
   "codemirror_mode": {
    "name": "ipython",
    "version": 3
   },
   "file_extension": ".py",
   "mimetype": "text/x-python",
   "name": "python",
   "nbconvert_exporter": "python",
   "pygments_lexer": "ipython3",
   "version": "3.9.16"
  }
 },
 "nbformat": 4,
 "nbformat_minor": 5
}
