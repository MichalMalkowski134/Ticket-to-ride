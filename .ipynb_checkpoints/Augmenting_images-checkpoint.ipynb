{
 "cells": [
  {
   "cell_type": "code",
   "execution_count": 1,
   "metadata": {
    "id": "8R2wQYHjl_5m"
   },
   "outputs": [],
   "source": [
    "from PIL import Image\n",
    "def augmenting_image(path, format):\n",
    "  Orig = Image.open(path)\n",
    "  for i in range(1,7):\n",
    "    New_Img = Orig.rotate(60*i)\n",
    "    New_Img.save(path+\".\"+format)"
   ]
  },
  {
   "cell_type": "code",
   "execution_count": null,
   "metadata": {
    "id": "wzqwyDT0niBM"
   },
   "outputs": [],
   "source": [
    "#Tutaj se wklej obroty i jest cacy\n",
    "augmenting_image(\"Tets.jpg\",\"jpg\")"
   ]
  },
  {
   "cell_type": "code",
   "execution_count": null,
   "metadata": {
    "id": "Van4y0tZn4vK"
   },
   "outputs": [],
   "source": []
  }
 ],
 "metadata": {
  "colab": {
   "provenance": []
  },
  "kernelspec": {
   "display_name": "Python 3 (ipykernel)",
   "language": "python",
   "name": "python3"
  },
  "language_info": {
   "codemirror_mode": {
    "name": "ipython",
    "version": 3
   },
   "file_extension": ".py",
   "mimetype": "text/x-python",
   "name": "python",
   "nbconvert_exporter": "python",
   "pygments_lexer": "ipython3",
   "version": "3.9.16"
  }
 },
 "nbformat": 4,
 "nbformat_minor": 1
}
