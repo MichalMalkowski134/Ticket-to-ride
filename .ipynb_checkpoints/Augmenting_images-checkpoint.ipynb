{
 "cells": [
  {
   "cell_type": "code",
   "execution_count": 1,
   "metadata": {
    "id": "8R2wQYHjl_5m"
   },
   "outputs": [],
   "source": [
    "from PIL import Image, ImageEnhance\n",
    "import random\n",
    "def rand_augmentation(img, i, path, format):\n",
    "    enhancer = ImageEnhance.Brightness(img)\n",
    "    rand = random.uniform(0.5, 2)\n",
    "    im_output = enhancer.enhance(rand)\n",
    "    enhancer = ImageEnhance.Contrast(im_output)\n",
    "    rand = random.uniform(0.5, 2)\n",
    "    im_output = enhancer.enhance(rand)\n",
    "    enhancer = ImageEnhance.Sharpness(im_output)\n",
    "    rand = random.uniform(0.5, 2)\n",
    "    im_output = enhancer.enhance(rand)\n",
    "    im_output.save(path+'-'+str(i)+\".\"+format)\n",
    "    \n",
    "def augmenting_image(path, format):\n",
    "    img = Image.open(path+'.'+format)\n",
    "    #tu zmieniamy ilosc zdjec ktora chcemy wygenerowac dla danej klasy\n",
    "    images_per_class = 10\n",
    "    for i in range(images_per_class-1):\n",
    "            rand_augmentation(img, i, path, format)\n",
    "    for i in range(1,6):\n",
    "        new_img = img.rotate(60*i)\n",
    "        path = path[:-1] + str(i)\n",
    "        new_img.save(path+'_'+\".\"+format)\n",
    "        for i in range(9):\n",
    "            rand_augmentation(new_img, i, path, format)\n",
    "            "
   ]
  },
  {
   "cell_type": "code",
   "execution_count": 2,
   "metadata": {
    "id": "wzqwyDT0niBM"
   },
   "outputs": [],
   "source": [
    "for i in range(13):\n",
    "    augmenting_image(\"dataset/age_of_steam/\" + str(i+1) + \"_0\",\"png\")\n",
    "    \n",
    "    #  Mamy na razie 13x6 = 78 klas \n",
    "    #  13 heksów z drogami (dojdą jeszcze te stacje czy coś) i każdy może mieć 6 pozycji"
   ]
  },
  {
   "cell_type": "code",
   "execution_count": null,
   "metadata": {},
   "outputs": [],
   "source": []
  }
 ],
 "metadata": {
  "colab": {
   "provenance": []
  },
  "kernelspec": {
   "display_name": "Python 3 (ipykernel)",
   "language": "python",
   "name": "python3"
  },
  "language_info": {
   "codemirror_mode": {
    "name": "ipython",
    "version": 3
   },
   "file_extension": ".py",
   "mimetype": "text/x-python",
   "name": "python",
   "nbconvert_exporter": "python",
   "pygments_lexer": "ipython3",
   "version": "3.9.16"
  }
 },
 "nbformat": 4,
 "nbformat_minor": 1
}
