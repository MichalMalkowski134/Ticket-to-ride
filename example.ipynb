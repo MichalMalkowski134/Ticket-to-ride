{
 "cells": [
  {
   "cell_type": "code",
   "execution_count": 1,
   "metadata": {},
   "outputs": [
    {
     "name": "stderr",
     "output_type": "stream",
     "text": [
      "\n",
      "image 1/1 /media/marcin/Dysk lokalny/Programowanie/Python/Magisterka/Projekt Badawczy/Github/Ticket-to-ride/original.jpg: 480x640 1 10_0, 1 10_2, 1 10_4, 1 11_1, 1 12_2, 1 12_4, 1 13_4, 1 14_1, 1 14_3, 2 1_4s, 1 24_0, 2 2_0s, 3 2_1s, 3 2_2s, 1 2_3, 2 2_4s, 1 2_5, 4 3_0s, 1 3_1, 7 3_2s, 1 4_5, 1 6_1, 1 7_1, 1 9_0, 1 9_2, 32.9ms\n",
      "Speed: 3.1ms preprocess, 32.9ms inference, 1.0ms postprocess per image at shape (1, 3, 480, 640)\n",
      "Results saved to \u001b[1mruns/detect/predict\u001b[0m\n",
      "1 label saved to runs/detect/predict/labels\n",
      "\n",
      "image 1/1 /media/marcin/Dysk lokalny/Programowanie/Python/Magisterka/Projekt Badawczy/Github/Ticket-to-ride/original.jpg: 480x640 189 hexs, 10.3ms\n",
      "Speed: 1.9ms preprocess, 10.3ms inference, 0.9ms postprocess per image at shape (1, 3, 480, 640)\n",
      "Results saved to \u001b[1mruns/detect/predict2\u001b[0m\n",
      "1 label saved to runs/detect/predict2/labels\n"
     ]
    },
    {
     "ename": "TypeError",
     "evalue": "argument of type 'numpy.float64' is not iterable",
     "output_type": "error",
     "traceback": [
      "\u001b[0;31m---------------------------------------------------------------------------\u001b[0m",
      "\u001b[0;31mTypeError\u001b[0m                                 Traceback (most recent call last)",
      "\u001b[1;32m/media/marcin/Dysk lokalny/Programowanie/Python/Magisterka/Projekt Badawczy/Github/Ticket-to-ride/example.ipynb Cell 1\u001b[0m line \u001b[0;36m1\n\u001b[1;32m      <a href='vscode-notebook-cell:/media/marcin/Dysk%20lokalny/Programowanie/Python/Magisterka/Projekt%20Badawczy/Github/Ticket-to-ride/example.ipynb#W0sZmlsZQ%3D%3D?line=8'>9</a>\u001b[0m folder_path2 \u001b[39m=\u001b[39m \u001b[39m'\u001b[39m\u001b[39mruns/detect/predict2\u001b[39m\u001b[39m'\u001b[39m\n\u001b[1;32m     <a href='vscode-notebook-cell:/media/marcin/Dysk%20lokalny/Programowanie/Python/Magisterka/Projekt%20Badawczy/Github/Ticket-to-ride/example.ipynb#W0sZmlsZQ%3D%3D?line=10'>11</a>\u001b[0m image_to_board \u001b[39m=\u001b[39m ImageToBoard\u001b[39m.\u001b[39mImageToBoard(image_path, model_path, model_grid_path, folder_path, folder_path2)\n\u001b[0;32m---> <a href='vscode-notebook-cell:/media/marcin/Dysk%20lokalny/Programowanie/Python/Magisterka/Projekt%20Badawczy/Github/Ticket-to-ride/example.ipynb#W0sZmlsZQ%3D%3D?line=11'>12</a>\u001b[0m tab \u001b[39m=\u001b[39m image_to_board\u001b[39m.\u001b[39;49mrun()\n\u001b[1;32m     <a href='vscode-notebook-cell:/media/marcin/Dysk%20lokalny/Programowanie/Python/Magisterka/Projekt%20Badawczy/Github/Ticket-to-ride/example.ipynb#W0sZmlsZQ%3D%3D?line=12'>13</a>\u001b[0m \u001b[39mmap\u001b[39m \u001b[39m=\u001b[39m np\u001b[39m.\u001b[39marray(tab)\n\u001b[1;32m     <a href='vscode-notebook-cell:/media/marcin/Dysk%20lokalny/Programowanie/Python/Magisterka/Projekt%20Badawczy/Github/Ticket-to-ride/example.ipynb#W0sZmlsZQ%3D%3D?line=13'>14</a>\u001b[0m \u001b[39mprint\u001b[39m(\u001b[39mmap\u001b[39m\u001b[39m.\u001b[39mshape)\n",
      "File \u001b[0;32m/media/marcin/Dysk lokalny/Programowanie/Python/Magisterka/Projekt Badawczy/Github/Ticket-to-ride/ImageToBoard.py:444\u001b[0m, in \u001b[0;36mImageToBoard.run\u001b[0;34m(self)\u001b[0m\n\u001b[1;32m    442\u001b[0m \u001b[39mself\u001b[39m\u001b[39m.\u001b[39mpredict()\n\u001b[1;32m    443\u001b[0m \u001b[39mself\u001b[39m\u001b[39m.\u001b[39mload_data()\n\u001b[0;32m--> 444\u001b[0m \u001b[39mself\u001b[39;49m\u001b[39m.\u001b[39;49mprocess_data()\n\u001b[1;32m    445\u001b[0m tab \u001b[39m=\u001b[39m \u001b[39mself\u001b[39m\u001b[39m.\u001b[39mtab\n\u001b[1;32m    446\u001b[0m \u001b[39mreturn\u001b[39;00m tab\n",
      "File \u001b[0;32m/media/marcin/Dysk lokalny/Programowanie/Python/Magisterka/Projekt Badawczy/Github/Ticket-to-ride/ImageToBoard.py:419\u001b[0m, in \u001b[0;36mImageToBoard.process_data\u001b[0;34m(self)\u001b[0m\n\u001b[1;32m    416\u001b[0m     p \u001b[39m=\u001b[39m \u001b[39mint\u001b[39m(p)\n\u001b[1;32m    417\u001b[0m     \u001b[39mself\u001b[39m\u001b[39m.\u001b[39mtab[o][p] \u001b[39m=\u001b[39m \u001b[39mstr\u001b[39m(\u001b[39mself\u001b[39m\u001b[39m.\u001b[39mclass_id_to_name(class_))\n\u001b[0;32m--> 419\u001b[0m image \u001b[39m=\u001b[39m \u001b[39mself\u001b[39;49m\u001b[39m.\u001b[39;49mdraw_board(\u001b[39mself\u001b[39;49m\u001b[39m.\u001b[39;49mcolumns, \u001b[39mself\u001b[39;49m\u001b[39m.\u001b[39;49mrows_in_columns, \u001b[39mself\u001b[39;49m\u001b[39m.\u001b[39;49mtab)\n\u001b[1;32m    421\u001b[0m fig \u001b[39m=\u001b[39m plt\u001b[39m.\u001b[39mfigure(figsize\u001b[39m=\u001b[39m(\u001b[39m10\u001b[39m, \u001b[39m8\u001b[39m))\n\u001b[1;32m    422\u001b[0m plt\u001b[39m.\u001b[39mimshow(image)\n",
      "File \u001b[0;32m/media/marcin/Dysk lokalny/Programowanie/Python/Magisterka/Projekt Badawczy/Github/Ticket-to-ride/ImageToBoard.py:181\u001b[0m, in \u001b[0;36mImageToBoard.draw_board\u001b[0;34m(self, columns_, rows_in_columns_, tab_)\u001b[0m\n\u001b[1;32m    179\u001b[0m \u001b[39mif\u001b[39;00m tab_[j][i] \u001b[39mis\u001b[39;00m \u001b[39mnot\u001b[39;00m \u001b[39mNone\u001b[39;00m:\n\u001b[1;32m    180\u001b[0m     \u001b[39mif\u001b[39;00m i \u001b[39m%\u001b[39m \u001b[39m2\u001b[39m \u001b[39m!=\u001b[39m \u001b[39m1\u001b[39m \u001b[39mor\u001b[39;00m j\u001b[39m!=\u001b[39m\u001b[39m10\u001b[39m:\n\u001b[0;32m--> 181\u001b[0m         \u001b[39mself\u001b[39;49m\u001b[39m.\u001b[39;49mdraw_hex(x, y,board, hex_size, \u001b[39m0\u001b[39;49m, text_\u001b[39m=\u001b[39;49mtab_[j][i])\n\u001b[1;32m    182\u001b[0m \u001b[39melse\u001b[39;00m:\n\u001b[1;32m    183\u001b[0m     \u001b[39mif\u001b[39;00m i \u001b[39m%\u001b[39m \u001b[39m2\u001b[39m \u001b[39m!=\u001b[39m \u001b[39m1\u001b[39m \u001b[39mor\u001b[39;00m j\u001b[39m!=\u001b[39m\u001b[39m10\u001b[39m:\n",
      "File \u001b[0;32m/media/marcin/Dysk lokalny/Programowanie/Python/Magisterka/Projekt Badawczy/Github/Ticket-to-ride/ImageToBoard.py:156\u001b[0m, in \u001b[0;36mImageToBoard.draw_hex\u001b[0;34m(self, x_, y_, board_, size_, angle_, text_)\u001b[0m\n\u001b[1;32m    154\u001b[0m center_y \u001b[39m=\u001b[39m y_\n\u001b[1;32m    155\u001b[0m font \u001b[39m=\u001b[39m ImageFont\u001b[39m.\u001b[39mload_default()\n\u001b[0;32m--> 156\u001b[0m text_length \u001b[39m=\u001b[39m draw\u001b[39m.\u001b[39;49mtextlength(text_, font\u001b[39m=\u001b[39;49mfont)\n\u001b[1;32m    157\u001b[0m text_x \u001b[39m=\u001b[39m center_x \u001b[39m-\u001b[39m text_length\u001b[39m/\u001b[39m\u001b[39m2\u001b[39m\n\u001b[1;32m    158\u001b[0m text_y \u001b[39m=\u001b[39m center_y\u001b[39m-\u001b[39m\u001b[39m5\u001b[39m  \n",
      "File \u001b[0;32m~/miniconda3/envs/tf/lib/python3.11/site-packages/PIL/ImageDraw.py:724\u001b[0m, in \u001b[0;36mImageDraw.textlength\u001b[0;34m(self, text, font, direction, features, language, embedded_color)\u001b[0m\n\u001b[1;32m    714\u001b[0m \u001b[39mdef\u001b[39;00m \u001b[39mtextlength\u001b[39m(\n\u001b[1;32m    715\u001b[0m     \u001b[39mself\u001b[39m,\n\u001b[1;32m    716\u001b[0m     text,\n\u001b[0;32m   (...)\u001b[0m\n\u001b[1;32m    721\u001b[0m     embedded_color\u001b[39m=\u001b[39m\u001b[39mFalse\u001b[39;00m,\n\u001b[1;32m    722\u001b[0m ):\n\u001b[1;32m    723\u001b[0m \u001b[39m    \u001b[39m\u001b[39m\"\"\"Get the length of a given string, in pixels with 1/64 precision.\"\"\"\u001b[39;00m\n\u001b[0;32m--> 724\u001b[0m     \u001b[39mif\u001b[39;00m \u001b[39mself\u001b[39;49m\u001b[39m.\u001b[39;49m_multiline_check(text):\n\u001b[1;32m    725\u001b[0m         msg \u001b[39m=\u001b[39m \u001b[39m\"\u001b[39m\u001b[39mcan\u001b[39m\u001b[39m'\u001b[39m\u001b[39mt measure length of multiline text\u001b[39m\u001b[39m\"\u001b[39m\n\u001b[1;32m    726\u001b[0m         \u001b[39mraise\u001b[39;00m \u001b[39mValueError\u001b[39;00m(msg)\n",
      "File \u001b[0;32m~/miniconda3/envs/tf/lib/python3.11/site-packages/PIL/ImageDraw.py:428\u001b[0m, in \u001b[0;36mImageDraw._multiline_check\u001b[0;34m(self, text)\u001b[0m\n\u001b[1;32m    425\u001b[0m \u001b[39mdef\u001b[39;00m \u001b[39m_multiline_check\u001b[39m(\u001b[39mself\u001b[39m, text):\n\u001b[1;32m    426\u001b[0m     split_character \u001b[39m=\u001b[39m \u001b[39m\"\u001b[39m\u001b[39m\\n\u001b[39;00m\u001b[39m\"\u001b[39m \u001b[39mif\u001b[39;00m \u001b[39misinstance\u001b[39m(text, \u001b[39mstr\u001b[39m) \u001b[39melse\u001b[39;00m \u001b[39mb\u001b[39m\u001b[39m\"\u001b[39m\u001b[39m\\n\u001b[39;00m\u001b[39m\"\u001b[39m\n\u001b[0;32m--> 428\u001b[0m     \u001b[39mreturn\u001b[39;00m split_character \u001b[39min\u001b[39;49;00m text\n",
      "\u001b[0;31mTypeError\u001b[0m: argument of type 'numpy.float64' is not iterable"
     ]
    }
   ],
   "source": [
    "import ImageToBoard \n",
    "import RoadDefineScript\n",
    "import numpy as np\n",
    "import os\n",
    "\n",
    "current_directory = os.getcwd()\n",
    "image_path = '/media/marcin/Dysk lokalny/Programowanie/Python/Magisterka/Projekt Badawczy/Github/Ticket-to-ride/dataset/age_of_steam/board/original3.jpg'\n",
    "#image_path = os.path.join(current_directory, image_path)\n",
    "model_path = 'Roboflow_model/best.pt'\n",
    "model_path = os.path.join(current_directory, model_path)\n",
    "model_grid_path = 'Roboflow_model/best_grid.pt'\n",
    "model_grid_path = os.path.join(current_directory, model_grid_path)\n",
    "folder_path = 'runs/detect/predict'\n",
    "folder_path = os.path.join(current_directory, folder_path)\n",
    "folder_path2 = 'runs/detect/predict2'\n",
    "folder_path2 = os.path.join(current_directory, folder_path2)\n",
    "\n",
    "image_to_board = ImageToBoard.ImageToBoard(image_path, model_path, model_grid_path, folder_path, folder_path2)\n",
    "tab = image_to_board.run()\n",
    "map = np.array(tab)\n",
    "print(map.shape)\n",
    "\n",
    "print(map)\n",
    "\n",
    "new_roads = RoadDefineScript.Main_Algorithm_Translated_Map(map)\n",
    "print(new_roads)\n"
   ]
  }
 ],
 "metadata": {
  "kernelspec": {
   "display_name": "tf",
   "language": "python",
   "name": "python3"
  },
  "language_info": {
   "codemirror_mode": {
    "name": "ipython",
    "version": 3
   },
   "file_extension": ".py",
   "mimetype": "text/x-python",
   "name": "python",
   "nbconvert_exporter": "python",
   "pygments_lexer": "ipython3",
   "version": "3.11.3"
  }
 },
 "nbformat": 4,
 "nbformat_minor": 2
}
