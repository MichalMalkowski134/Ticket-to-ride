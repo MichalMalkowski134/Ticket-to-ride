{
 "cells": [
  {
   "cell_type": "code",
   "execution_count": 5,
   "metadata": {},
   "outputs": [
    {
     "name": "stdout",
     "output_type": "stream",
     "text": [
      "/media/marcin/5AD6135FD6133B29/Programowanie/Python/Magisterka/Projekt Badawczy/Github/Ticket-to-ride\n"
     ]
    }
   ],
   "source": [
    "import os\n",
    "HOME = os.getcwd()\n",
    "print(HOME)\n",
    "\n"
   ]
  },
  {
   "cell_type": "code",
   "execution_count": 1,
   "metadata": {},
   "outputs": [
    {
     "name": "stderr",
     "output_type": "stream",
     "text": [
      "Ultralytics YOLOv8.0.190 🚀 Python-3.11.3 torch-2.0.1+cu117 CUDA:0 (NVIDIA GeForce RTX 2060, 5924MiB)\n",
      "Setup complete ✅ (12 CPUs, 15.5 GB RAM, 43.6/77.4 GB disk)\n"
     ]
    }
   ],
   "source": [
    "!pip install ultralytics==8.0.20\n",
    "\n",
    "from IPython import display\n",
    "display.clear_output()\n",
    "\n",
    "import ultralytics\n",
    "ultralytics.checks()"
   ]
  },
  {
   "cell_type": "code",
   "execution_count": 2,
   "metadata": {},
   "outputs": [],
   "source": [
    "from ultralytics import YOLO\n",
    "from IPython.display import display, Image"
   ]
  },
  {
   "cell_type": "code",
   "execution_count": 9,
   "metadata": {},
   "outputs": [
    {
     "name": "stdout",
     "output_type": "stream",
     "text": [
      "/media/marcin/5AD6135FD6133B29/Programowanie/Python/Magisterka/Projekt Badawczy/Github/Ticket-to-ride\n",
      "/bin/bash: /home/marcin/miniconda3/envs/tf/lib/libtinfo.so.6: no version information available (required by /bin/bash)\n",
      "Ultralytics YOLOv8.0.190 🚀 Python-3.11.3 torch-2.0.1+cu117 CUDA:0 (NVIDIA GeForce RTX 2060, 5924MiB)\n",
      "Model summary (fused): 168 layers, 11158866 parameters, 0 gradients, 28.6 GFLOPs\n",
      "\n",
      "image 1/1 /media/marcin/5AD6135FD6133B29/Programowanie/Python/Magisterka/Projekt Badawczy/Github/Ticket-to-ride/dataset/age_of_steam/board/original.jpg: 480x640 1 10_0, 1 10_2, 1 10_4, 1 11_1, 1 12_2, 1 12_4, 1 13_4, 1 14_1, 1 14_3, 2 1_4s, 1 24_0, 2 2_0s, 3 2_1s, 3 2_2s, 1 2_3, 2 2_4s, 1 2_5, 4 3_0s, 1 3_1, 7 3_2s, 1 4_5, 1 6_1, 1 7_1, 1 9_0, 1 9_2, 28.3ms\n",
      "Speed: 3.0ms preprocess, 28.3ms inference, 5.9ms postprocess per image at shape (1, 3, 480, 640)\n",
      "Results saved to \u001b[1mruns/detect/predict\u001b[0m\n",
      "1 label saved to runs/detect/predict/labels\n",
      "💡 Learn more at https://docs.ultralytics.com/modes/predict\n"
     ]
    }
   ],
   "source": [
    "%cd {HOME}\n",
    "!yolo task=detect mode=predict model=Roboflow_model/best.pt conf=0.25 source=dataset/age_of_steam/board save=True save_txt=True\n"
   ]
  },
  {
   "cell_type": "code",
   "execution_count": null,
   "metadata": {},
   "outputs": [],
   "source": [
    "from PIL import Image, ImageDraw, ImageFont\n",
    "import matplotlib.pyplot as plt\n",
    "import math\n",
    "\n",
    "# Rozmiar planszy\n",
    "szerokosc = 640\n",
    "wysokosc = 640\n",
    "\n",
    "# Liczba kolumn i wierszy w planszy\n",
    "liczba_kolumn = 18\n",
    "wiersze_w_kolumnach = [11, 10, 11, 10, 11, 10, 11, 10, 11, 10, 11,10,11,10,11,10,11,10]\n",
    "wiersze = 11\n",
    "\n",
    "# Rozmiar heksów\n",
    "rozmiar_heksa = 20\n",
    "odstep = rozmiar_heksa * 3**0.5 / 2  # Odległość między środkami heksów\n",
    "\n",
    "# Tworzenie obrazu planszy\n",
    "plansza = Image.new('RGB', (szerokosc, wysokosc), (255, 255, 255))\n",
    "draw = ImageDraw.Draw(plansza)\n",
    "\n",
    "\n",
    "tab = [[None for _ in range(liczba_kolumn)] for _ in range(liczba_wierszy)]\n",
    "\n",
    "tab[5][7]  = \"1B\"\n",
    "tab[9][5]  = \"2B\"\n",
    "tab[10][0] = \"3B\"\n",
    "tab[7][2]  = \"4B\"\n",
    "tab[2][1]  = \"5B\"\n",
    "tab[0][2]  = \"6B\"\n",
    "tab[9][13] = \"M\"\n",
    "tab[9][9]  = \"1C\"\n",
    "tab[8][12] = \"2C\"\n",
    "tab[3][13] = \"3C\"\n",
    "tab[8][16] = \"4C\"\n",
    "tab[5][17] = \"5C\"\n",
    "tab[1][16] = \"6C\"\n",
    "\n",
    "\n",
    "def rysuj_heks(x, y, rozmiar, kat_obrotu, tekst=None):\n",
    "    x0, y0 = x + rozmiar * math.cos(kat_obrotu), y - rozmiar * math.sin(kat_obrotu)\n",
    "    x1, y1 = x + rozmiar * math.cos(kat_obrotu + math.radians(60)), y - rozmiar * math.sin(kat_obrotu + math.radians(60))\n",
    "    x2, y2 = x + rozmiar * math.cos(kat_obrotu + math.radians(120)), y - rozmiar * math.sin(kat_obrotu + math.radians(120))\n",
    "    x3, y3 = x + rozmiar * math.cos(kat_obrotu + math.radians(180)), y - rozmiar * math.sin(kat_obrotu + math.radians(180))\n",
    "    x4, y4 = x + rozmiar * math.cos(kat_obrotu + math.radians(240)), y - rozmiar * math.sin(kat_obrotu + math.radians(240))\n",
    "    x5, y5 = x + rozmiar * math.cos(kat_obrotu + math.radians(300)), y - rozmiar * math.sin(kat_obrotu + math.radians(300))\n",
    "\n",
    "    points = [x0, y0, x1, y1, x2, y2, x3, y3, x4, y4, x5, y5]\n",
    "    draw.polygon(points, outline=(0, 0, 0))\n",
    "\n",
    "    if tekst:\n",
    "        srodek_x = x\n",
    "        srodek_y = y\n",
    "        # Ustaw czcionkę i rozmiar tekstu\n",
    "        czcionka = ImageFont.load_default()\n",
    "        # Ustaw kolor tekstu\n",
    "        kolor_tekstu = (0, 0, 0)\n",
    "        # Wstaw tekst w środku heksa\n",
    "        text_width, text_height = draw.textsize(tekst, font=czcionka)\n",
    "        text_x = srodek_x - text_width // 2\n",
    "        text_y = srodek_y - text_height // 2\n",
    "        draw.text((text_x, text_y), tekst, font=czcionka, fill=kolor_tekstu)\n",
    "\n",
    "# Rysowanie planszy\n",
    "x = rozmiar_heksa\n",
    "y = rozmiar_heksa\n",
    "\n",
    "for i, kolumna in enumerate(range(liczba_kolumn)):\n",
    "    if i % 2 == 0:\n",
    "        y = rozmiar_heksa\n",
    "    else:\n",
    "        y = rozmiar_heksa + rozmiar_heksa * 3**0.5/2\n",
    "    for j, wiersze in enumerate(wiersze_w_kolumnach):\n",
    "        if i < liczba_kolumn and j < wiersze:\n",
    "            if tab[j][i] is not None:\n",
    "                if i % 2 != 1 or j!=10:\n",
    "                  rysuj_heks(x, y, rozmiar_heksa, 0, tekst=tab[j][i])\n",
    "            else:\n",
    "                if i % 2 != 1 or j!=10:\n",
    "                  rysuj_heks(x, y, rozmiar_heksa, 0, tekst=\"\")\n",
    "        y += odstep * 2\n",
    "    x += odstep * 2\n",
    "\n",
    "\n",
    "\n",
    "# Zapisz planszę do pliku\n",
    "plansza.save('plansza_hex.png')\n",
    "obraz = Image.open('plansza_hex.png')\n",
    "obraz2 = Image.open('/content/runs/detect/predict/IMG_20231012_210315_jpg.rf.6d3af08fd8a1420847552a273c3fb57b.jpg')\n",
    "\n",
    "#Wyświetlanie\n",
    "fig = plt.figure(figsize=(10, 8))\n",
    "plt.imshow(obraz)\n",
    "plt.axis('off')\n",
    "plt.show()\n",
    "fig1 = plt.figure(figsize=(10, 8))\n",
    "plt.imshow(obraz2)\n",
    "plt.axis('off')\n",
    "plt.show()"
   ]
  }
 ],
 "metadata": {
  "kernelspec": {
   "display_name": "Python 3",
   "language": "python",
   "name": "python3"
  },
  "language_info": {
   "codemirror_mode": {
    "name": "ipython",
    "version": 3
   },
   "file_extension": ".py",
   "mimetype": "text/x-python",
   "name": "python",
   "nbconvert_exporter": "python",
   "pygments_lexer": "ipython3",
   "version": "3.11.3"
  }
 },
 "nbformat": 4,
 "nbformat_minor": 2
}
