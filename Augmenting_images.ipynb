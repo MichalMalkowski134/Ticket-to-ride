{
  "nbformat": 4,
  "nbformat_minor": 0,
  "metadata": {
    "colab": {
      "provenance": []
    },
    "kernelspec": {
      "name": "python3",
      "display_name": "Python 3"
    },
    "language_info": {
      "name": "python"
    }
  },
  "cells": [
    {
      "cell_type": "code",
      "source": [
        "from PIL import Image\n",
        "def augmenting_image(path, format):\n",
        "  Orig = Image.open(path)\n",
        "  for i in range(1,7):\n",
        "    New_Img = Orig.rotate(60*i)\n",
        "    New_Img.save(path+\".\"+format)"
      ],
      "metadata": {
        "id": "8R2wQYHjl_5m"
      },
      "execution_count": null,
      "outputs": []
    },
    {
      "cell_type": "code",
      "source": [
        "#Tutaj se wklej obroty i jest cacy\n",
        "augmenting_image(\"Tets.jpg\",\"jpg\")"
      ],
      "metadata": {
        "id": "wzqwyDT0niBM"
      },
      "execution_count": null,
      "outputs": []
    },
    {
      "cell_type": "code",
      "source": [],
      "metadata": {
        "id": "Van4y0tZn4vK"
      },
      "execution_count": null,
      "outputs": []
    }
  ]
}